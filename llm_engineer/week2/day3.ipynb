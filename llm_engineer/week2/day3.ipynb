{
 "cells": [
  {
   "cell_type": "markdown",
   "id": "75e2ef28-594f-4c18-9d22-c6b8cd40ead2",
   "metadata": {},
   "source": [
    "# Day 3 - Conversational AI - aka Chatbot!"
   ]
  },
  {
   "cell_type": "code",
   "execution_count": 17,
   "id": "70e39cd8-ec79-4e3e-9c26-5659d42d0861",
   "metadata": {},
   "outputs": [],
   "source": [
    "# imports\n",
    "\n",
    "import os\n",
    "from dotenv import load_dotenv\n",
    "from openai import OpenAI\n",
    "import gradio as gr"
   ]
  },
  {
   "cell_type": "code",
   "execution_count": 18,
   "id": "231605aa-fccb-447e-89cf-8b187444536a",
   "metadata": {},
   "outputs": [
    {
     "name": "stdout",
     "output_type": "stream",
     "text": [
      "OpenAI API Key exists and begins sk-ZtA2d\n",
      "Anthropic API Key exists and begins sk-ant-\n",
      "Google API Key exists and begins AIzaSyAe\n"
     ]
    }
   ],
   "source": [
    "# Load environment variables in a file called .env\n",
    "# Print the key prefixes to help with any debugging\n",
    "\n",
    "load_dotenv()\n",
    "openai_api_key = os.getenv('OPENAI_API_KEY')\n",
    "anthropic_api_key = os.getenv('ANTHROPIC_API_KEY')\n",
    "google_api_key = os.getenv('GOOGLE_API_KEY')\n",
    "\n",
    "if openai_api_key:\n",
    "    print(f\"OpenAI API Key exists and begins {openai_api_key[:8]}\")\n",
    "else:\n",
    "    print(\"OpenAI API Key not set\")\n",
    "    \n",
    "if anthropic_api_key:\n",
    "    print(f\"Anthropic API Key exists and begins {anthropic_api_key[:7]}\")\n",
    "else:\n",
    "    print(\"Anthropic API Key not set\")\n",
    "\n",
    "if google_api_key:\n",
    "    print(f\"Google API Key exists and begins {google_api_key[:8]}\")\n",
    "else:\n",
    "    print(\"Google API Key not set\")"
   ]
  },
  {
   "cell_type": "code",
   "execution_count": 19,
   "id": "6541d58e-2297-4de1-b1f7-77da1b98b8bb",
   "metadata": {},
   "outputs": [],
   "source": [
    "# Initialize\n",
    "\n",
    "openai = OpenAI()\n",
    "MODEL = 'gpt-4o-mini'"
   ]
  },
  {
   "cell_type": "code",
   "execution_count": 20,
   "id": "e16839b5-c03b-4d9d-add6-87a0f6f37575",
   "metadata": {},
   "outputs": [],
   "source": [
    "system_message = \"You are a helpful assistant\""
   ]
  },
  {
   "cell_type": "markdown",
   "id": "98e97227-f162-4d1a-a0b2-345ff248cbe7",
   "metadata": {},
   "source": [
    "# Please read this! A change from the video:\n",
    "\n",
    "In the video, I explain how we now need to write a function called:\n",
    "\n",
    "`chat(message, history)`\n",
    "\n",
    "Which expects to receive `history` in a particular format, which we need to map to the OpenAI format before we call OpenAI:\n",
    "\n",
    "```\n",
    "[\n",
    "    {\"role\": \"system\", \"content\": \"system message here\"},\n",
    "    {\"role\": \"user\", \"content\": \"first user prompt here\"},\n",
    "    {\"role\": \"assistant\", \"content\": \"the assistant's response\"},\n",
    "    {\"role\": \"user\", \"content\": \"the new user prompt\"},\n",
    "]\n",
    "```\n",
    "\n",
    "But Gradio has been upgraded! Now it will pass in `history` in the exact OpenAI format, perfect for us to send straight to OpenAI.\n",
    "\n",
    "So our work just got easier!\n",
    "\n",
    "We will write a function `chat(message, history)` where:  \n",
    "**message** is the prompt to use  \n",
    "**history** is the past conversation, in OpenAI format  \n",
    "\n",
    "We will combine the system message, history and latest message, then call OpenAI."
   ]
  },
  {
   "cell_type": "code",
   "execution_count": 21,
   "id": "1eacc8a4-4b48-4358-9e06-ce0020041bc1",
   "metadata": {},
   "outputs": [],
   "source": [
    "# Simpler than in my video - we can easily create this function that calls OpenAI\n",
    "# It's now just 1 line of code to prepare the input to OpenAI!\n",
    "\n",
    "def chat(message, history):\n",
    "    messages = [{\"role\": \"system\", \"content\": system_message}] + history + [{\"role\": \"user\", \"content\": message}]\n",
    "\n",
    "    print(\"History is:\")\n",
    "    print(history)\n",
    "    print(\"And messages is:\")\n",
    "    print(messages)\n",
    "\n",
    "    stream = openai.chat.completions.create(model=MODEL, messages=messages, stream=True)\n",
    "\n",
    "    response = \"\"\n",
    "    for chunk in stream:\n",
    "        response += chunk.choices[0].delta.content or ''\n",
    "        yield response"
   ]
  },
  {
   "cell_type": "code",
   "execution_count": 22,
   "id": "665df25f-cb65-4dc1-91f7-3681598349f4",
   "metadata": {},
   "outputs": [],
   "source": [
    "force_dark_mode = \"\"\"\n",
    "function refresh() {\n",
    "    const url = new URL(window.location);\n",
    "    if (url.searchParams.get('__theme') !== 'dark') {\n",
    "        url.searchParams.set('__theme', 'dark');\n",
    "        window.location.href = url.href;\n",
    "    }\n",
    "}\n",
    "\"\"\""
   ]
  },
  {
   "cell_type": "markdown",
   "id": "1334422a-808f-4147-9c4c-57d63d9780d0",
   "metadata": {},
   "source": [
    "## And then enter Gradio's magic!"
   ]
  },
  {
   "cell_type": "code",
   "execution_count": 23,
   "id": "0866ca56-100a-44ab-8bd0-1568feaf6bf2",
   "metadata": {},
   "outputs": [
    {
     "name": "stdout",
     "output_type": "stream",
     "text": [
      "* Running on local URL:  http://127.0.0.1:7869\n",
      "\n",
      "To create a public link, set `share=True` in `launch()`.\n"
     ]
    },
    {
     "data": {
      "text/html": [
       "<div><iframe src=\"http://127.0.0.1:7869/\" width=\"100%\" height=\"500\" allow=\"autoplay; camera; microphone; clipboard-read; clipboard-write;\" frameborder=\"0\" allowfullscreen></iframe></div>"
      ],
      "text/plain": [
       "<IPython.core.display.HTML object>"
      ]
     },
     "metadata": {},
     "output_type": "display_data"
    },
    {
     "data": {
      "text/plain": []
     },
     "execution_count": 23,
     "metadata": {},
     "output_type": "execute_result"
    },
    {
     "name": "stdout",
     "output_type": "stream",
     "text": [
      "History is:\n",
      "[]\n",
      "And messages is:\n",
      "[{'role': 'system', 'content': 'You are a helpful assistant'}, {'role': 'user', 'content': 'I want jeans'}]\n",
      "History is:\n",
      "[{'role': 'user', 'metadata': {'title': None}, 'content': 'I want jeans', 'options': None}, {'role': 'assistant', 'metadata': {'title': None}, 'content': \"Great! Here are some tips to help you find the perfect pair of jeans:\\n\\n1. **Fit**: Consider the fit that you prefer. Common styles include skinny, straight, bootcut, and relaxed. Try different styles to see what feels most comfortable for you.\\n\\n2. **Rise**: Think about the rise you want—high-rise, mid-rise, or low-rise. This will affect where the jeans sit on your waist.\\n\\n3. **Wash**: Jeans come in various washes, from dark denim to light blue, distressed, or even colored options. Choose a wash that suits your style and can be easily paired with other clothing in your wardrobe.\\n\\n4. **Material**: Look for jeans made with quality denim that has a bit of stretch for comfort. A blend of cotton and elastane is common for added flexibility.\\n\\n5. **Sizing**: Make sure to refer to the sizing chart of the brand you are considering, as sizes can vary between manufacturers. If possible, try them on before purchasing.\\n\\n6. **Occasion**: Think about where you’ll be wearing the jeans. If you need them for casual outings, a relaxed fit might work. For a semi-formal look, you might want to go with a darker wash and a tailored fit.\\n\\n7. **Budget**: Set a budget for your purchase. Jeans can range widely in price, so knowing your budget can help narrow down your options.\\n\\n8. **Brands**: Some popular brands known for their jeans include Levi's, Wrangler, Lee, Topshop, American Eagle, and Madewell. \\n\\nIf you let me know your style preferences, I can help you narrow down your options even further!\", 'options': None}]\n",
      "And messages is:\n",
      "[{'role': 'system', 'content': 'You are a helpful assistant'}, {'role': 'user', 'metadata': {'title': None}, 'content': 'I want jeans', 'options': None}, {'role': 'assistant', 'metadata': {'title': None}, 'content': \"Great! Here are some tips to help you find the perfect pair of jeans:\\n\\n1. **Fit**: Consider the fit that you prefer. Common styles include skinny, straight, bootcut, and relaxed. Try different styles to see what feels most comfortable for you.\\n\\n2. **Rise**: Think about the rise you want—high-rise, mid-rise, or low-rise. This will affect where the jeans sit on your waist.\\n\\n3. **Wash**: Jeans come in various washes, from dark denim to light blue, distressed, or even colored options. Choose a wash that suits your style and can be easily paired with other clothing in your wardrobe.\\n\\n4. **Material**: Look for jeans made with quality denim that has a bit of stretch for comfort. A blend of cotton and elastane is common for added flexibility.\\n\\n5. **Sizing**: Make sure to refer to the sizing chart of the brand you are considering, as sizes can vary between manufacturers. If possible, try them on before purchasing.\\n\\n6. **Occasion**: Think about where you’ll be wearing the jeans. If you need them for casual outings, a relaxed fit might work. For a semi-formal look, you might want to go with a darker wash and a tailored fit.\\n\\n7. **Budget**: Set a budget for your purchase. Jeans can range widely in price, so knowing your budget can help narrow down your options.\\n\\n8. **Brands**: Some popular brands known for their jeans include Levi's, Wrangler, Lee, Topshop, American Eagle, and Madewell. \\n\\nIf you let me know your style preferences, I can help you narrow down your options even further!\", 'options': None}, {'role': 'user', 'content': 'I want black jeans under 50$'}]\n",
      "History is:\n",
      "[{'role': 'user', 'metadata': {'title': None}, 'content': 'I want jeans', 'options': None}, {'role': 'assistant', 'metadata': {'title': None}, 'content': \"Great! Here are some tips to help you find the perfect pair of jeans:\\n\\n1. **Fit**: Consider the fit that you prefer. Common styles include skinny, straight, bootcut, and relaxed. Try different styles to see what feels most comfortable for you.\\n\\n2. **Rise**: Think about the rise you want—high-rise, mid-rise, or low-rise. This will affect where the jeans sit on your waist.\\n\\n3. **Wash**: Jeans come in various washes, from dark denim to light blue, distressed, or even colored options. Choose a wash that suits your style and can be easily paired with other clothing in your wardrobe.\\n\\n4. **Material**: Look for jeans made with quality denim that has a bit of stretch for comfort. A blend of cotton and elastane is common for added flexibility.\\n\\n5. **Sizing**: Make sure to refer to the sizing chart of the brand you are considering, as sizes can vary between manufacturers. If possible, try them on before purchasing.\\n\\n6. **Occasion**: Think about where you’ll be wearing the jeans. If you need them for casual outings, a relaxed fit might work. For a semi-formal look, you might want to go with a darker wash and a tailored fit.\\n\\n7. **Budget**: Set a budget for your purchase. Jeans can range widely in price, so knowing your budget can help narrow down your options.\\n\\n8. **Brands**: Some popular brands known for their jeans include Levi's, Wrangler, Lee, Topshop, American Eagle, and Madewell. \\n\\nIf you let me know your style preferences, I can help you narrow down your options even further!\", 'options': None}, {'role': 'user', 'metadata': {'title': None}, 'content': 'I want black jeans under 50$', 'options': None}, {'role': 'assistant', 'metadata': {'title': None}, 'content': \"There are many options for black jeans under $50. Here are some popular retailers where you can find affordable black jeans:\\n\\n1. **Old Navy**: They often have sales and a variety of fits, including straight, skinny, and boyfriend styles.\\n\\n2. **H&M**: Known for trendy clothes at affordable prices, H&M frequently offers black jeans in various styles and fits.\\n\\n3. **Uniqlo**: Their jeans are known for comfort and quality, and they often keep prices reasonable.\\n\\n4. **American Eagle**: Look for sales on their jeans; they have a good selection of affordable black jeans in various fits.\\n\\n5. **ASOS**: They have a variety of brands and styles, and you can filter by price to find options under $50.\\n\\n6. **Target**: Their in-store brand and other brands available at Target often have stylish options for black jeans at budget-friendly prices.\\n\\n7. **Forever 21**: They offer trendy, affordable options, and occasionally have deals on jeans.\\n\\n8. **Zara**: While some items may be above your budget, you can often find stylish jeans on sale or in their basics collection.\\n\\n9. **Amazon**: Many brands sell jeans on Amazon, and you can often find good deals. Just be sure to check the size chart and customer reviews for quality.\\n\\nIt's a good idea to check for any ongoing sales or discounts, which can help you stay under budget. Happy shopping!\", 'options': None}]\n",
      "And messages is:\n",
      "[{'role': 'system', 'content': 'You are a helpful assistant'}, {'role': 'user', 'metadata': {'title': None}, 'content': 'I want jeans', 'options': None}, {'role': 'assistant', 'metadata': {'title': None}, 'content': \"Great! Here are some tips to help you find the perfect pair of jeans:\\n\\n1. **Fit**: Consider the fit that you prefer. Common styles include skinny, straight, bootcut, and relaxed. Try different styles to see what feels most comfortable for you.\\n\\n2. **Rise**: Think about the rise you want—high-rise, mid-rise, or low-rise. This will affect where the jeans sit on your waist.\\n\\n3. **Wash**: Jeans come in various washes, from dark denim to light blue, distressed, or even colored options. Choose a wash that suits your style and can be easily paired with other clothing in your wardrobe.\\n\\n4. **Material**: Look for jeans made with quality denim that has a bit of stretch for comfort. A blend of cotton and elastane is common for added flexibility.\\n\\n5. **Sizing**: Make sure to refer to the sizing chart of the brand you are considering, as sizes can vary between manufacturers. If possible, try them on before purchasing.\\n\\n6. **Occasion**: Think about where you’ll be wearing the jeans. If you need them for casual outings, a relaxed fit might work. For a semi-formal look, you might want to go with a darker wash and a tailored fit.\\n\\n7. **Budget**: Set a budget for your purchase. Jeans can range widely in price, so knowing your budget can help narrow down your options.\\n\\n8. **Brands**: Some popular brands known for their jeans include Levi's, Wrangler, Lee, Topshop, American Eagle, and Madewell. \\n\\nIf you let me know your style preferences, I can help you narrow down your options even further!\", 'options': None}, {'role': 'user', 'metadata': {'title': None}, 'content': 'I want black jeans under 50$', 'options': None}, {'role': 'assistant', 'metadata': {'title': None}, 'content': \"There are many options for black jeans under $50. Here are some popular retailers where you can find affordable black jeans:\\n\\n1. **Old Navy**: They often have sales and a variety of fits, including straight, skinny, and boyfriend styles.\\n\\n2. **H&M**: Known for trendy clothes at affordable prices, H&M frequently offers black jeans in various styles and fits.\\n\\n3. **Uniqlo**: Their jeans are known for comfort and quality, and they often keep prices reasonable.\\n\\n4. **American Eagle**: Look for sales on their jeans; they have a good selection of affordable black jeans in various fits.\\n\\n5. **ASOS**: They have a variety of brands and styles, and you can filter by price to find options under $50.\\n\\n6. **Target**: Their in-store brand and other brands available at Target often have stylish options for black jeans at budget-friendly prices.\\n\\n7. **Forever 21**: They offer trendy, affordable options, and occasionally have deals on jeans.\\n\\n8. **Zara**: While some items may be above your budget, you can often find stylish jeans on sale or in their basics collection.\\n\\n9. **Amazon**: Many brands sell jeans on Amazon, and you can often find good deals. Just be sure to check the size chart and customer reviews for quality.\\n\\nIt's a good idea to check for any ongoing sales or discounts, which can help you stay under budget. Happy shopping!\", 'options': None}, {'role': 'user', 'content': 'which one have the highest rating'}]\n"
     ]
    }
   ],
   "source": [
    "gr.ChatInterface(fn=chat, type=\"messages\",js=force_dark_mode).launch()"
   ]
  },
  {
   "cell_type": "code",
   "execution_count": 7,
   "id": "1f91b414-8bab-472d-b9c9-3fa51259bdfe",
   "metadata": {},
   "outputs": [],
   "source": [
    "system_message = \"You are a helpful assistant in a clothes store. You should try to gently encourage \\\n",
    "the customer to try items that are on sale. Hats are 60% off, and most other items are 50% off. \\\n",
    "For example, if the customer says 'I'm looking to buy a hat', \\\n",
    "you could reply something like, 'Wonderful - we have lots of hats - including several that are part of our sales evemt.'\\\n",
    "Encourage the customer to buy hats if they are unsure what to get.\""
   ]
  },
  {
   "cell_type": "code",
   "execution_count": 8,
   "id": "4e5be3ec-c26c-42bc-ac16-c39d369883f6",
   "metadata": {},
   "outputs": [],
   "source": [
    "def chat(message, history):\n",
    "    messages = [{\"role\": \"system\", \"content\": system_message}] + history + [{\"role\": \"user\", \"content\": message}]\n",
    "\n",
    "    stream = openai.chat.completions.create(model=MODEL, messages=messages, stream=True)\n",
    "\n",
    "    response = \"\"\n",
    "    for chunk in stream:\n",
    "        response += chunk.choices[0].delta.content or ''\n",
    "        yield response"
   ]
  },
  {
   "cell_type": "code",
   "execution_count": 24,
   "id": "413e9e4e-7836-43ac-a0c3-e1ab5ed6b136",
   "metadata": {},
   "outputs": [
    {
     "name": "stdout",
     "output_type": "stream",
     "text": [
      "* Running on local URL:  http://127.0.0.1:7870\n",
      "\n",
      "To create a public link, set `share=True` in `launch()`.\n"
     ]
    },
    {
     "data": {
      "text/html": [
       "<div><iframe src=\"http://127.0.0.1:7870/\" width=\"100%\" height=\"500\" allow=\"autoplay; camera; microphone; clipboard-read; clipboard-write;\" frameborder=\"0\" allowfullscreen></iframe></div>"
      ],
      "text/plain": [
       "<IPython.core.display.HTML object>"
      ]
     },
     "metadata": {},
     "output_type": "display_data"
    },
    {
     "data": {
      "text/plain": []
     },
     "execution_count": 24,
     "metadata": {},
     "output_type": "execute_result"
    }
   ],
   "source": [
    "gr.ChatInterface(fn=chat, type=\"messages\",js=force_dark_mode).launch()"
   ]
  },
  {
   "cell_type": "code",
   "execution_count": 10,
   "id": "d75f0ffa-55c8-4152-b451-945021676837",
   "metadata": {},
   "outputs": [],
   "source": [
    "system_message += \"\\nIf the customer asks for shoes, you should respond that shoes are not on sale today, \\\n",
    "but remind the customer to look at hats!\""
   ]
  },
  {
   "cell_type": "code",
   "execution_count": 11,
   "id": "c602a8dd-2df7-4eb7-b539-4e01865a6351",
   "metadata": {},
   "outputs": [
    {
     "name": "stdout",
     "output_type": "stream",
     "text": [
      "* Running on local URL:  http://127.0.0.1:7862\n",
      "\n",
      "To create a public link, set `share=True` in `launch()`.\n"
     ]
    },
    {
     "data": {
      "text/html": [
       "<div><iframe src=\"http://127.0.0.1:7862/\" width=\"100%\" height=\"500\" allow=\"autoplay; camera; microphone; clipboard-read; clipboard-write;\" frameborder=\"0\" allowfullscreen></iframe></div>"
      ],
      "text/plain": [
       "<IPython.core.display.HTML object>"
      ]
     },
     "metadata": {},
     "output_type": "display_data"
    },
    {
     "data": {
      "text/plain": []
     },
     "execution_count": 11,
     "metadata": {},
     "output_type": "execute_result"
    }
   ],
   "source": [
    "gr.ChatInterface(fn=chat, type=\"messages\").launch()"
   ]
  },
  {
   "cell_type": "code",
   "execution_count": 12,
   "id": "0a987a66-1061-46d6-a83a-a30859dc88bf",
   "metadata": {},
   "outputs": [],
   "source": [
    "# Fixed a bug in this function brilliantly identified by student Gabor M.!\n",
    "# I've also improved the structure of this function\n",
    "\n",
    "def chat(message, history):\n",
    "\n",
    "    relevant_system_message = system_message\n",
    "    if 'belt' in message:\n",
    "        relevant_system_message += \" The store does not sell belts; if you are asked for belts, be sure to point out other items on sale.\"\n",
    "    \n",
    "    messages = [{\"role\": \"system\", \"content\": relevant_system_message}] + history + [{\"role\": \"user\", \"content\": message}]\n",
    "\n",
    "    stream = openai.chat.completions.create(model=MODEL, messages=messages, stream=True)\n",
    "\n",
    "    response = \"\"\n",
    "    for chunk in stream:\n",
    "        response += chunk.choices[0].delta.content or ''\n",
    "        yield response"
   ]
  },
  {
   "cell_type": "code",
   "execution_count": 25,
   "id": "20570de2-eaad-42cc-a92c-c779d71b48b6",
   "metadata": {},
   "outputs": [
    {
     "name": "stdout",
     "output_type": "stream",
     "text": [
      "* Running on local URL:  http://127.0.0.1:7871\n",
      "* Running on public URL: https://468bb2efbf70e85250.gradio.live\n",
      "\n",
      "This share link expires in 72 hours. For free permanent hosting and GPU upgrades, run `gradio deploy` from the terminal in the working directory to deploy to Hugging Face Spaces (https://huggingface.co/spaces)\n"
     ]
    },
    {
     "data": {
      "text/html": [
       "<div><iframe src=\"https://468bb2efbf70e85250.gradio.live\" width=\"100%\" height=\"500\" allow=\"autoplay; camera; microphone; clipboard-read; clipboard-write;\" frameborder=\"0\" allowfullscreen></iframe></div>"
      ],
      "text/plain": [
       "<IPython.core.display.HTML object>"
      ]
     },
     "metadata": {},
     "output_type": "display_data"
    },
    {
     "data": {
      "text/plain": []
     },
     "execution_count": 25,
     "metadata": {},
     "output_type": "execute_result"
    }
   ],
   "source": [
    "gr.ChatInterface(fn=chat, type=\"messages\",js=force_dark_mode).launch(share=True)"
   ]
  },
  {
   "cell_type": "markdown",
   "id": "82a57ee0-b945-48a7-a024-01b56a5d4b3e",
   "metadata": {},
   "source": [
    "<table style=\"margin: 0; text-align: left;\">\n",
    "    <tr>\n",
    "        <td style=\"width: 150px; height: 150px; vertical-align: middle;\">\n",
    "            <img src=\"../business.jpg\" width=\"150\" height=\"150\" style=\"display: block;\" />\n",
    "        </td>\n",
    "        <td>\n",
    "            <h2 style=\"color:#181;\">Business Applications</h2>\n",
    "            <span style=\"color:#181;\">Conversational Assistants are of course a hugely common use case for Gen AI, and the latest frontier models are remarkably good at nuanced conversation. And Gradio makes it easy to have a user interface. Another crucial skill we covered is how to use prompting to provide context, information and examples.\n",
    "<br/><br/>\n",
    "Consider how you could apply an AI Assistant to your business, and make yourself a prototype. Use the system prompt to give context on your business, and set the tone for the LLM.</span>\n",
    "        </td>\n",
    "    </tr>\n",
    "</table>"
   ]
  },
  {
   "cell_type": "code",
   "execution_count": null,
   "id": "6dfb9e21-df67-4c2b-b952-5e7e7961b03d",
   "metadata": {},
   "outputs": [],
   "source": []
  }
 ],
 "metadata": {
  "kernelspec": {
   "display_name": "Python 3 (ipykernel)",
   "language": "python",
   "name": "python3"
  },
  "language_info": {
   "codemirror_mode": {
    "name": "ipython",
    "version": 3
   },
   "file_extension": ".py",
   "mimetype": "text/x-python",
   "name": "python",
   "nbconvert_exporter": "python",
   "pygments_lexer": "ipython3",
   "version": "3.11.2"
  }
 },
 "nbformat": 4,
 "nbformat_minor": 5
}
