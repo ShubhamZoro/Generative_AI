{
 "cells": [
  {
   "cell_type": "markdown",
   "id": "d15d8294-3328-4e07-ad16-8a03e9bbfdb9",
   "metadata": {},
   "source": [
    "# Welcome to your first assignment!\n",
    "\n",
    "Instructions are below. Please give this a try, and look in the solutions folder if you get stuck (or feel free to ask me!)"
   ]
  },
  {
   "cell_type": "markdown",
   "id": "ada885d9-4d42-4d9b-97f0-74fbbbfe93a9",
   "metadata": {},
   "source": [
    "<table style=\"margin: 0; text-align: left;\">\n",
    "    <tr>\n",
    "        <td style=\"width: 150px; height: 150px; vertical-align: middle;\">\n",
    "            <img src=\"../resources.jpg\" width=\"150\" height=\"150\" style=\"display: block;\" />\n",
    "        </td>\n",
    "        <td>\n",
    "            <h2 style=\"color:#f71;\">Just before we get to the assignment --</h2>\n",
    "            <span style=\"color:#f71;\">I thought I'd take a second to point you at this page of useful resources for the course. This includes links to all the slides.<br/>\n",
    "            <a href=\"https://edwarddonner.com/2024/11/13/llm-engineering-resources/\">https://edwarddonner.com/2024/11/13/llm-engineering-resources/</a><br/>\n",
    "            Please keep this bookmarked, and I'll continue to add more useful links there over time.\n",
    "            </span>\n",
    "        </td>\n",
    "    </tr>\n",
    "</table>"
   ]
  },
  {
   "cell_type": "markdown",
   "id": "6e9fa1fc-eac5-4d1d-9be4-541b3f2b3458",
   "metadata": {},
   "source": [
    "# HOMEWORK EXERCISE ASSIGNMENT\n",
    "\n",
    "Upgrade the day 1 project to summarize a webpage to use an Open Source model running locally via Ollama rather than OpenAI\n",
    "\n",
    "You'll be able to use this technique for all subsequent projects if you'd prefer not to use paid APIs.\n",
    "\n",
    "**Benefits:**\n",
    "1. No API charges - open-source\n",
    "2. Data doesn't leave your box\n",
    "\n",
    "**Disadvantages:**\n",
    "1. Significantly less power than Frontier Model\n",
    "\n",
    "## Recap on installation of Ollama\n",
    "\n",
    "Simply visit [ollama.com](https://ollama.com) and install!\n",
    "\n",
    "Once complete, the ollama server should already be running locally.  \n",
    "If you visit:  \n",
    "[http://localhost:11434/](http://localhost:11434/)\n",
    "\n",
    "You should see the message `Ollama is running`.  \n",
    "\n",
    "If not, bring up a new Terminal (Mac) or Powershell (Windows) and enter `ollama serve`  \n",
    "And in another Terminal (Mac) or Powershell (Windows), enter `ollama pull llama3.2`  \n",
    "Then try [http://localhost:11434/](http://localhost:11434/) again.\n",
    "\n",
    "If Ollama is slow on your machine, try using `llama3.2:1b` as an alternative. Run `ollama pull llama3.2:1b` from a Terminal or Powershell, and change the code below from `MODEL = \"llama3.2\"` to `MODEL = \"llama3.2:1b\"`"
   ]
  },
  {
   "cell_type": "code",
   "execution_count": 1,
   "id": "4e2a9393-7767-488e-a8bf-27c12dca35bd",
   "metadata": {},
   "outputs": [],
   "source": [
    "# imports\n",
    "\n",
    "import requests\n",
    "from bs4 import BeautifulSoup\n",
    "from IPython.display import Markdown, display"
   ]
  },
  {
   "cell_type": "code",
   "execution_count": 2,
   "id": "29ddd15d-a3c5-4f4e-a678-873f56162724",
   "metadata": {},
   "outputs": [],
   "source": [
    "# Constants\n",
    "\n",
    "OLLAMA_API = \"http://localhost:11434/api/chat\"\n",
    "HEADERS = {\"Content-Type\": \"application/json\"}\n",
    "MODEL = \"llama3.2\""
   ]
  },
  {
   "cell_type": "code",
   "execution_count": 3,
   "id": "dac0a679-599c-441f-9bf2-ddc73d35b940",
   "metadata": {},
   "outputs": [],
   "source": [
    "# Create a messages list using the same format that we used for OpenAI\n",
    "\n",
    "messages = [\n",
    "    {\"role\": \"user\", \"content\": \"Describe some of the business applications of Generative AI\"}\n",
    "]"
   ]
  },
  {
   "cell_type": "code",
   "execution_count": 4,
   "id": "7bb9c624-14f0-4945-a719-8ddb64f66f47",
   "metadata": {},
   "outputs": [],
   "source": [
    "payload = {\n",
    "        \"model\": MODEL,\n",
    "        \"messages\": messages,\n",
    "        \"stream\": False\n",
    "    }"
   ]
  },
  {
   "cell_type": "code",
   "execution_count": 5,
   "id": "42b9f644-522d-4e05-a691-56e7658c0ea9",
   "metadata": {},
   "outputs": [
    {
     "name": "stdout",
     "output_type": "stream",
     "text": [
      "Generative AI has numerous business applications across various industries, including:\n",
      "\n",
      "1. **Content Creation**: AI-generated content such as articles, social media posts, and product descriptions can help businesses save time and resources while maintaining consistency in tone and style.\n",
      "2. **Product Design**: Generative AI can be used to design new products, such as furniture, electronics, or clothing, using complex algorithms that learn from patterns and trends in data.\n",
      "3. **Marketing Automation**: AI-generated content, such as email campaigns and social media ads, can help businesses personalize their marketing efforts and reach a wider audience.\n",
      "4. **Customer Service Chatbots**: Generative AI-powered chatbots can provide 24/7 customer support, answering frequently asked questions and routing complex issues to human representatives.\n",
      "5. **Financial Analysis**: AI-generated financial models and reports can help businesses analyze market trends, forecast revenue, and make informed investment decisions.\n",
      "6. **Data Visualization**: Generative AI can create interactive and dynamic data visualizations, enabling businesses to present complex data insights in a more engaging and accessible way.\n",
      "7. **Supply Chain Optimization**: AI-generated predictive models can help businesses optimize their supply chains, predicting demand fluctuations and identifying areas for improvement.\n",
      "8. **Cybersecurity Threat Detection**: Generative AI-powered threat detection systems can analyze network traffic patterns to identify potential security threats and alert the IT team in real-time.\n",
      "9. **Medical Diagnosis**: AI-generated medical diagnosis tools can analyze patient data and provide doctors with diagnostic recommendations, helping to improve healthcare outcomes.\n",
      "10. **Image and Video Generation**: Generative AI can be used to create realistic images and videos for applications such as advertising, entertainment, or education.\n",
      "\n",
      "Some specific business use cases include:\n",
      "\n",
      "* **Luxury Fashion Brand**: Uses generative AI to design new clothing lines, predict customer behavior, and personalize marketing campaigns.\n",
      "* **E-commerce Platform**: Utilizes generative AI to generate product descriptions, reviews, and social media posts, improving the overall shopping experience for customers.\n",
      "* **Financial Institution**: Leverages generative AI to analyze market trends, forecast revenue, and optimize investment portfolios.\n",
      "\n",
      "These are just a few examples of the many business applications of Generative AI. As the technology continues to evolve, we can expect to see even more innovative use cases across various industries.\n"
     ]
    }
   ],
   "source": [
    "response = requests.post(OLLAMA_API, json=payload, headers=HEADERS)\n",
    "print(response.json()['message']['content'])"
   ]
  },
  {
   "cell_type": "markdown",
   "id": "6a021f13-d6a1-4b96-8e18-4eae49d876fe",
   "metadata": {},
   "source": [
    "# Introducing the ollama package\n",
    "\n",
    "And now we'll do the same thing, but using the elegant ollama python package instead of a direct HTTP call.\n",
    "\n",
    "Under the hood, it's making the same call as above to the ollama server running at localhost:11434"
   ]
  },
  {
   "cell_type": "code",
   "execution_count": 6,
   "id": "7745b9c4-57dc-4867-9180-61fa5db55eb8",
   "metadata": {},
   "outputs": [
    {
     "name": "stdout",
     "output_type": "stream",
     "text": [
      "Generative AI has numerous business applications across various industries, including:\n",
      "\n",
      "1. **Content Creation**: Generative AI can generate high-quality content such as articles, blog posts, social media posts, product descriptions, and even entire books. This can help businesses save time and resources while maintaining consistency in their content.\n",
      "2. **Product Design**: Generative AI can design products such as furniture, clothing, and jewelry by creating 3D models and simulations of different designs. This can help businesses reduce the time and cost associated with traditional product design processes.\n",
      "3. **Marketing and Advertising**: Generative AI can generate personalized ads, social media posts, and email campaigns that are tailored to individual customers' interests and preferences.\n",
      "4. **Customer Service**: Generative AI-powered chatbots can provide 24/7 customer support, helping businesses to improve customer satisfaction and reduce the workload of human customer service representatives.\n",
      "5. **Data Analysis and Visualization**: Generative AI can analyze large datasets and generate visualizations such as charts, graphs, and heatmaps that help businesses to gain insights into their data.\n",
      "6. **Predictive Maintenance**: Generative AI can analyze sensor data from machines and predict when maintenance is required, helping businesses to reduce downtime and improve overall efficiency.\n",
      "7. **Personalized Recommendations**: Generative AI can generate personalized product recommendations for customers based on their browsing history, search queries, and purchase behavior.\n",
      "8. **Language Translation**: Generative AI can translate text and speech in real-time, enabling businesses to communicate with customers and partners across languages and cultures.\n",
      "9. **Creative Writing**: Generative AI can generate creative writing such as poetry, short stories, and scripts for films and TV shows.\n",
      "10. **Music Composition**: Generative AI can compose music for various media platforms such as films, video games, and advertisements.\n",
      "\n",
      "Some specific examples of businesses that are using Generative AI include:\n",
      "\n",
      "* Google's Bard AI chatbot\n",
      "* Amazon's Generative AI-powered product recommendations\n",
      "* Nike's Generative AI-powered product design\n",
      "* IBM's Watson Generative AI for customer service\n",
      "* Adobe's Generative AI-powered content creation\n",
      "\n",
      "These are just a few examples of the many business applications of Generative AI. As the technology continues to evolve, we can expect to see even more innovative uses of Generative AI in various industries.\n"
     ]
    }
   ],
   "source": [
    "import ollama\n",
    "\n",
    "response = ollama.chat(model=MODEL, messages=messages)\n",
    "print(response['message']['content'])"
   ]
  },
  {
   "cell_type": "markdown",
   "id": "a4704e10-f5fb-4c15-a935-f046c06fb13d",
   "metadata": {},
   "source": [
    "## Alternative approach - using OpenAI python library to connect to Ollama"
   ]
  },
  {
   "cell_type": "code",
   "execution_count": 7,
   "id": "23057e00-b6fc-4678-93a9-6b31cb704bff",
   "metadata": {},
   "outputs": [
    {
     "name": "stdout",
     "output_type": "stream",
     "text": [
      "Generative AI, also known as Generation AI or Generative Model, is a type of artificial intelligence that can generate new data, such as images, text, or audio, based on existing data. Here are some potential business applications of Generative AI:\n",
      "\n",
      "1. **Content Creation**: Generative AI can be used to automate content creation, such as generating blog posts, social media content, or product descriptions.\n",
      "2. **Image and Video Generation**: Generative AI can generate high-quality images and videos for various purposes, such as product visualization, advertising, or entertainment.\n",
      "3. **Chatbots and Virtual Assistants**: Generative AI can be used to create chatbots that can understand and respond to customer inquiries in a more natural and human-like way.\n",
      "4. **Recommendation Systems**: Generative AI can be used to develop recommendation systems that suggest products or services based on customer behavior and preferences.\n",
      "5. **Data Augmentation**: Generative AI can be used to generate new data that is similar to existing data, which can help improve the performance of machine learning models in areas such as natural language processing (NLP) and computer vision.\n",
      "6. **Automated Customer Service**: Generative AI can be used to power automated customer service systems that use chatbots or voice assistants to answer customer inquiries.\n",
      "7. **Personalization**: Generative AI can be used to develop personalized product recommendations, marketing campaigns, or content suggestions based on individual user characteristics.\n",
      "8. **Marketing and Advertising**: Generative AI can be used to generate targeted advertising messages, social media posts, or email marketing content that resonates with specific audiences.\n",
      "9. **Accessibility**: Generative AI can be used to generate audio descriptions, images, or other assistive technologies for people with visual or hearing impairments.\n",
      "10. **Scientific Research**: Generative AI can be used to analyze and visualize large datasets, simulate complex scenarios, or predict outcomes in fields such as medicine, finance, or climate science.\n",
      "\n",
      "Some specific industries that are already seeing the benefits of Generative AI include:\n",
      "\n",
      "1. E-commerce: Using Generative AI to generate product descriptions, images, and customer reviews.\n",
      "2. Advertising: Using Generative AI to personalize ad messages and content based on user behavior and demographics.\n",
      "3. Healthcare: Using Generative AI to analyze medical data, predict diagnoses, or develop personalized treatment plans.\n",
      "4. Finance: Using Generative AI to analyze financial transactions, predict market trends, or identify potential risks.\n",
      "\n",
      "These are just a few examples of the many business applications of Generative AI. As the technology continues to evolve, we can expect to see more innovative use cases across industries and domains.\n"
     ]
    }
   ],
   "source": [
    "# There's actually an alternative approach that some people might prefer\n",
    "# You can use the OpenAI client python library to call Ollama:\n",
    "\n",
    "from openai import OpenAI\n",
    "ollama_via_openai = OpenAI(base_url='http://localhost:11434/v1', api_key='ollama')\n",
    "\n",
    "response = ollama_via_openai.chat.completions.create(\n",
    "    model=MODEL,\n",
    "    messages=messages\n",
    ")\n",
    "\n",
    "print(response.choices[0].message.content)"
   ]
  },
  {
   "cell_type": "markdown",
   "id": "1622d9bb-5c68-4d4e-9ca4-b492c751f898",
   "metadata": {},
   "source": [
    "# NOW the exercise for you\n",
    "\n",
    "Take the code from day1 and incorporate it here, to build a website summarizer that uses Llama 3.2 running locally instead of OpenAI; use either of the above approaches."
   ]
  },
  {
   "cell_type": "code",
   "execution_count": 8,
   "id": "7ac6f085-cdbc-4580-ab57-4d9eae57db57",
   "metadata": {},
   "outputs": [],
   "source": [
    "headers = {\n",
    " \"User-Agent\": \"Mozilla/5.0 (Windows NT 10.0; Win64; x64) AppleWebKit/537.36 (KHTML, like Gecko) Chrome/117.0.0.0 Safari/537.36\"\n",
    "}\n",
    "\n",
    "class Website:\n",
    "\n",
    "    def __init__(self, url):\n",
    "        \"\"\"\n",
    "        Create this Website object from the given url using the BeautifulSoup library\n",
    "        \"\"\"\n",
    "        self.url = url\n",
    "        response = requests.get(url, headers=headers)\n",
    "        soup = BeautifulSoup(response.content, 'html.parser')\n",
    "        self.title = soup.title.string if soup.title else \"No title found\"\n",
    "        for irrelevant in soup.body([\"script\", \"style\", \"img\", \"input\"]):\n",
    "            irrelevant.decompose()\n",
    "        self.text = soup.body.get_text(separator=\"\\n\", strip=True)"
   ]
  },
  {
   "cell_type": "code",
   "execution_count": 10,
   "id": "ddea8f96-66d2-4ea0-a2bf-2ae206fb35d6",
   "metadata": {},
   "outputs": [],
   "source": [
    "system_prompt = \"You are an assistant that analyzes the contents of a website \\\n",
    "and provides a short summary, ignoring text that might be navigation related. \\\n",
    "Respond in markdown.\""
   ]
  },
  {
   "cell_type": "code",
   "execution_count": 11,
   "id": "6dacf768-dd59-49bb-844c-8a145c98694a",
   "metadata": {},
   "outputs": [],
   "source": [
    "def user_prompt_for(website):\n",
    "    user_prompt = f\"You are looking at a website titled {website.title}\"\n",
    "    user_prompt += \"\\nThe contents of this website is as follows; \\\n",
    "please provide a short summary of this website in markdown. \\\n",
    "If it includes news or announcements, then summarize these too.\\n\\n\"\n",
    "    user_prompt += website.text\n",
    "    return user_prompt"
   ]
  },
  {
   "cell_type": "code",
   "execution_count": 12,
   "id": "9b928fea-8cbb-43dc-a614-171bc4dd8e97",
   "metadata": {},
   "outputs": [],
   "source": [
    "def messages_for(website):\n",
    "    return [\n",
    "        {\"role\": \"system\", \"content\": system_prompt},\n",
    "        {\"role\": \"user\", \"content\": user_prompt_for(website)}\n",
    "    ]"
   ]
  },
  {
   "cell_type": "code",
   "execution_count": 13,
   "id": "d2483e1d-d0fe-4833-bc5a-8cf0fba8cf1a",
   "metadata": {},
   "outputs": [],
   "source": [
    "def summarize(url):\n",
    "    website = Website(url)\n",
    "    response = ollama.chat(model=MODEL, messages=messages_for(website))\n",
    "    return response['message']['content']"
   ]
  },
  {
   "cell_type": "code",
   "execution_count": 14,
   "id": "402d5686-4e76-4110-b65a-b3906c35c0a4",
   "metadata": {},
   "outputs": [],
   "source": [
    "def display_summary(url):\n",
    "    summary = summarize(url)\n",
    "    display(Markdown(summary))"
   ]
  },
  {
   "cell_type": "code",
   "execution_count": 15,
   "id": "d4e11e7f-1638-4b22-b1e6-ebee0ea9c132",
   "metadata": {},
   "outputs": [
    {
     "data": {
      "text/markdown": [
       "### Summary of Edward Donner's Website\n",
       "\n",
       "#### Overview\n",
       "The website is a personal blog and professional platform for Edward Donner, a technology entrepreneur and AI enthusiast.\n",
       "\n",
       "#### Projects and Ventures\n",
       "* Co-founder and CTO of Nebula.io, an AI startup that applies AI to help people discover their potential.\n",
       "* Previous founder and CEO of untapt, an AI startup acquired in 2021.\n",
       "\n",
       "#### News and Announcements\n",
       "\n",
       "* **Mastering AI and LLM Engineering – Resources** (November 13, 2024): A collection of resources for mastering AI and LLM engineering.\n",
       "* **From Software Engineer to AI Data Scientist – resources** (October 16, 2024): A collection of resources for transitioning from software engineer to AI data scientist.\n",
       "* **Outsmart LLM Arena – a battle of diplomacy and deviousness** (June 26, 2024): An arena that pits LLMs against each other in a battle of diplomacy and deviousness.\n",
       "* **Choosing the Right LLM: Toolkit and Resources** (August 6, 2024): A toolkit and resources for choosing the right LLM.\n",
       "\n",
       "Note: The \"Hacker News\" mention is likely just for personal interest and not related to any specific project or announcement."
      ],
      "text/plain": [
       "<IPython.core.display.Markdown object>"
      ]
     },
     "metadata": {},
     "output_type": "display_data"
    }
   ],
   "source": [
    "display_summary(\"https://edwarddonner.com\")"
   ]
  },
  {
   "cell_type": "code",
   "execution_count": null,
   "id": "6d4c01b2-0e25-4ad9-8054-c6a37274d1ea",
   "metadata": {},
   "outputs": [],
   "source": []
  }
 ],
 "metadata": {
  "kernelspec": {
   "display_name": "Python 3 (ipykernel)",
   "language": "python",
   "name": "python3"
  },
  "language_info": {
   "codemirror_mode": {
    "name": "ipython",
    "version": 3
   },
   "file_extension": ".py",
   "mimetype": "text/x-python",
   "name": "python",
   "nbconvert_exporter": "python",
   "pygments_lexer": "ipython3",
   "version": "3.11.2"
  }
 },
 "nbformat": 4,
 "nbformat_minor": 5
}
