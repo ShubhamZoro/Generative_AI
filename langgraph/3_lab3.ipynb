{
 "cells": [
  {
   "cell_type": "markdown",
   "metadata": {},
   "source": [
    "## Welcome to Week 4, Day 4\n",
    "\n",
    "This is the start of an AWESOME project! Really simple and very effective."
   ]
  },
  {
   "cell_type": "markdown",
   "metadata": {},
   "source": [
    "### First - a heads up for Windows PC users\n",
    "\n",
    "While executing this notebook, you might hit a problem with the Playwright browser raising a NotImplementedError.\n",
    "\n",
    "This should work when we move to python modules, but it can cause problems in Windows in a notebook.\n",
    "\n",
    "If you it this error and would like to run the notebook, you need to make a small change which seems quite hacky!\n",
    "\n",
    "1. Right click in `.venv` in the File Explorer on the left and select \"Find in folder\"\n",
    "2. Search for `asyncio.set_event_loop_policy(WindowsSelectorEventLoopPolicy())`  \n",
    "3. That code should be found in a line of code in a file called `kernelapp.py`\n",
    "4. Comment out the entire else clause that this line is a part of - see the fragment below\n",
    "5. Restart the kernel by pressing the \"Restart\" button above\n",
    "\n",
    "```python\n",
    "        if sys.platform.startswith(\"win\") and sys.version_info >= (3, 8):\n",
    "            import asyncio\n",
    " \n",
    "            try:\n",
    "                from asyncio import WindowsProactorEventLoopPolicy, WindowsSelectorEventLoopPolicy\n",
    "            except ImportError:\n",
    "                pass\n",
    "                # not affected\n",
    "           # else:\n",
    "            #    if type(asyncio.get_event_loop_policy()) is WindowsProactorEventLoopPolicy:\n",
    "                    # WindowsProactorEventLoopPolicy is not compatible with tornado 6\n",
    "                    # fallback to the pre-3.8 default of Selector\n",
    "                    # asyncio.set_event_loop_policy(WindowsSelectorEventLoopPolicy())\n",
    "```\n",
    "\n",
    "Thank you to student Nicolas for finding this, and to Kalyan, Yaki, Zibin and Bhaskar for confirming that this worked for them!\n",
    "\n",
    "As an alternative, you can just move to a Python module (which we do anyway in Day 5)"
   ]
  },
  {
   "cell_type": "code",
   "execution_count": 2,
   "metadata": {},
   "outputs": [],
   "source": [
    "from typing import Annotated\n",
    "from typing_extensions import TypedDict\n",
    "from langgraph.graph import StateGraph, START\n",
    "from langgraph.graph.message import add_messages\n",
    "from dotenv import load_dotenv\n",
    "from IPython.display import Image, display\n",
    "import gradio as gr\n",
    "from langgraph.prebuilt import ToolNode, tools_condition\n",
    "import requests\n",
    "import os\n",
    "from langchain.agents import Tool\n",
    "\n",
    "from langchain_openai import ChatOpenAI\n",
    "from langgraph.checkpoint.memory import MemorySaver"
   ]
  },
  {
   "cell_type": "code",
   "execution_count": 3,
   "metadata": {},
   "outputs": [
    {
     "data": {
      "text/plain": [
       "True"
      ]
     },
     "execution_count": 3,
     "metadata": {},
     "output_type": "execute_result"
    }
   ],
   "source": [
    "load_dotenv(override=True)"
   ]
  },
  {
   "cell_type": "markdown",
   "metadata": {},
   "source": [
    "### Asynchronous LangGraph\n",
    "\n",
    "To run a tool:  \n",
    "Sync: `tool.run(inputs)`  \n",
    "Async: `await tool.arun(inputs)`\n",
    "\n",
    "To invoke the graph:  \n",
    "Sync: `graph.invoke(state)`  \n",
    "Async: `await graph.ainvoke(state)`"
   ]
  },
  {
   "cell_type": "code",
   "execution_count": 4,
   "metadata": {},
   "outputs": [],
   "source": [
    "class State(TypedDict):\n",
    "    \n",
    "    messages: Annotated[list, add_messages]\n",
    "\n",
    "\n",
    "graph_builder = StateGraph(State)"
   ]
  },
  {
   "cell_type": "code",
   "execution_count": 5,
   "metadata": {},
   "outputs": [],
   "source": [
    "pushover_token = os.getenv(\"PUSHOVER_TOKEN\")\n",
    "pushover_user = os.getenv(\"PUSHOVER_USER\")\n",
    "pushover_url = \"https://api.pushover.net/1/messages.json\"\n",
    "\n",
    "def push(text: str):\n",
    "    \"\"\"Send a push notification to the user\"\"\"\n",
    "    requests.post(pushover_url, data = {\"token\": pushover_token, \"user\": pushover_user, \"message\": text})\n",
    "\n",
    "tool_push = Tool(\n",
    "        name=\"send_push_notification\",\n",
    "        func=push,\n",
    "        description=\"useful for when you want to send a push notification\"\n",
    "    )"
   ]
  },
  {
   "cell_type": "markdown",
   "metadata": {},
   "source": [
    "### Next: Install Playwright\n",
    "\n",
    "On Windows and MacOS:  \n",
    "`playwright install`\n",
    "\n",
    "On Linux:  \n",
    "`playwright install —with-reps chromium`"
   ]
  },
  {
   "cell_type": "markdown",
   "metadata": {},
   "source": [
    "### Introducing nest_asyncio\n",
    "\n",
    "Python async code only allows for one \"event loop\" processing aynchronous events.\n",
    "\n",
    "The `nest_asyncio` library patches this, and is used for special situations, if you need to run a nested event loop.\n",
    "\n"
   ]
  },
  {
   "cell_type": "code",
   "execution_count": 6,
   "metadata": {},
   "outputs": [],
   "source": [
    "import nest_asyncio\n",
    "nest_asyncio.apply()"
   ]
  },
  {
   "cell_type": "markdown",
   "metadata": {},
   "source": [
    "### The LangChain community\n",
    "\n",
    "One of the remarkable things about LangChain is the rich community around it.\n",
    "\n",
    "Check this out:\n"
   ]
  },
  {
   "cell_type": "code",
   "execution_count": 7,
   "metadata": {},
   "outputs": [],
   "source": [
    "from langchain_community.agent_toolkits import PlayWrightBrowserToolkit\n",
    "from langchain_community.tools.playwright.utils import create_async_playwright_browser\n",
    "\n",
    "# If you get a NotImplementedError here or later, see the Heads Up at the top of the notebook\n",
    "\n",
    "async_browser =  create_async_playwright_browser(headless=False)  # headful mode\n",
    "toolkit = PlayWrightBrowserToolkit.from_browser(async_browser=async_browser)\n",
    "tools = toolkit.get_tools()"
   ]
  },
  {
   "cell_type": "code",
   "execution_count": 8,
   "metadata": {},
   "outputs": [
    {
     "name": "stdout",
     "output_type": "stream",
     "text": [
      "click_element=async_browser=<Browser type=<BrowserType name=chromium executable_path=C:\\Users\\shubh\\AppData\\Local\\ms-playwright\\chromium-1179\\chrome-win\\chrome.exe> version=138.0.7204.23>\n",
      "navigate_browser=async_browser=<Browser type=<BrowserType name=chromium executable_path=C:\\Users\\shubh\\AppData\\Local\\ms-playwright\\chromium-1179\\chrome-win\\chrome.exe> version=138.0.7204.23>\n",
      "previous_webpage=async_browser=<Browser type=<BrowserType name=chromium executable_path=C:\\Users\\shubh\\AppData\\Local\\ms-playwright\\chromium-1179\\chrome-win\\chrome.exe> version=138.0.7204.23>\n",
      "extract_text=async_browser=<Browser type=<BrowserType name=chromium executable_path=C:\\Users\\shubh\\AppData\\Local\\ms-playwright\\chromium-1179\\chrome-win\\chrome.exe> version=138.0.7204.23>\n",
      "extract_hyperlinks=async_browser=<Browser type=<BrowserType name=chromium executable_path=C:\\Users\\shubh\\AppData\\Local\\ms-playwright\\chromium-1179\\chrome-win\\chrome.exe> version=138.0.7204.23>\n",
      "get_elements=async_browser=<Browser type=<BrowserType name=chromium executable_path=C:\\Users\\shubh\\AppData\\Local\\ms-playwright\\chromium-1179\\chrome-win\\chrome.exe> version=138.0.7204.23>\n",
      "current_webpage=async_browser=<Browser type=<BrowserType name=chromium executable_path=C:\\Users\\shubh\\AppData\\Local\\ms-playwright\\chromium-1179\\chrome-win\\chrome.exe> version=138.0.7204.23>\n"
     ]
    }
   ],
   "source": [
    "for tool in tools:\n",
    "    print(f\"{tool.name}={tool}\")"
   ]
  },
  {
   "cell_type": "code",
   "execution_count": 10,
   "metadata": {},
   "outputs": [],
   "source": [
    "tool_dict = {tool.name:tool for tool in tools}\n",
    "\n",
    "navigate_tool = tool_dict.get(\"navigate_browser\")\n",
    "extract_text_tool = tool_dict.get(\"extract_text\")\n",
    "\n",
    "    \n",
    "await navigate_tool.arun({\"url\": \"https://www.cnn.com\", \"timeout\": 60000})  # 60 seconds\n",
    "\n",
    "text = await extract_text_tool.arun({})"
   ]
  },
  {
   "cell_type": "code",
   "execution_count": 11,
   "metadata": {},
   "outputs": [
    {
     "name": "stdout",
     "output_type": "stream",
     "text": [
      "Breaking News, Latest News and Videos | CNN CNN values your feedback\n",
      "1. How relevant is this ad to you? 2. Did you encounter any technical\n",
      "issues? No Video player was slow to load content Video content never\n",
      "loaded Ad froze or did not finish loading Video content did not start\n",
      "after ad Audio on ad was too loud Other issues Ad never loaded Ad\n",
      "prevented/slowed the page from loading Content moved around while ad\n",
      "loaded Ad was repetitive to ads I've seen previously Other issues\n",
      "Cancel Submit Thank You! Your effort and contribution in providing\n",
      "this feedback is much\n",
      "appreciated. Close Ad Feedback Close icon US World Politics Business\n",
      "Health Entertainment Style Travel Sports Science Climate Weather\n",
      "Ukraine-Russia War Israel-Hamas War Games More US World Politics\n",
      "Business Health Entertainment Style Travel Sports Science Climate\n",
      "Weather Ukraine-Russia War Israel-Hamas War Games Watch Listen Live TV\n",
      "Subscribe Sign in My Account Settings Newsletters Topics you follow\n",
      "Sign out Your CNN account Sign in to your CNN account Sign in My\n",
      "Account Settings Newsletters Topics you follow Sign out Your CNN\n",
      "account Sign in to your CNN account Live TV Listen Watch Edition US\n",
      "International Arabic Español Edition US International Arabic Español\n",
      "World Africa Americas Asia Australia China Europe India Middle East\n",
      "United Kingdom US Politics Trump Facts First CNN Polls 2025 Elections\n",
      "Business Tech Media Calculators Videos Markets Pre-markets After-Hours\n",
      "Fear & Greed Investing Markets Now Nightcap Health Life, But Better\n",
      "Fitness Food Sleep Mindfulness Relationships Entertainment Movies\n",
      "Television Celebrity Tech Innovate Foreseeable Future Mission: Ahead\n",
      "Work Transformed Innovative Cities Style Arts Design Fashion\n",
      "Architecture Luxury Beauty Video Travel Destinations Food & Drink Stay\n",
      "News Videos Sports Football Tennis Golf Motorsport US Sports Olympics\n",
      "Climbing Esports Hockey Science Space Life Unearthed Climate Solutions\n",
      "Weather Weather Video Climate Ukraine-Russia War Israel-Hamas War\n",
      "Features As Equals Call to Earth Freedom Project Impact Your World\n",
      "Inside Africa CNN Heroes Watch Live TV CNN Fast Shows A-Z CNN10 CNN\n",
      "Max CNN TV Schedules Listen CNN 5 Things Chasing Life with Dr. Sanjay\n",
      "Gupta The Assignment with Audie Cornish One Thing Tug of War CNN\n",
      "Political Briefing The Axe Files All There Is with Anderson Cooper All\n",
      "CNN Audio podcasts Games Daily Crossword Jumble Crossword Sudoblock\n",
      "Sudoku 5 Things Quiz About CNN Photos Investigations CNN Profiles CNN\n",
      "Leadership CNN Newsletters Work for CNN Follow CNN Bezos-Sanchez\n",
      "wedding Nike’s tariff bill Erling Haaland ‘Twitter killer’ executed\n",
      "Beyoncé’s Cowboy Carter Tour Rick Hurst dies • Breaking News Breaking\n",
      "News Liang Sen/Xinhua/Getty Images Breaking News Trump is ending trade\n",
      "talks with Canada Trade talks probably won’t be done by Trump’s July 9\n",
      "deadline, Bessent says • Breaking News Breaking News Win McNamee/Getty\n",
      "Images Breaking News University of Virginia president plans to resign\n",
      "amid pressure from Trump administration Analysis Trump’s massive\n",
      "agenda bill aims to enshrine MAGA in American life Trump hails Supreme\n",
      "Court decision to limit judges' power to block orders Show all • Live\n",
      "Updates Live Updates Joe Raedle/Getty Images Live Updates He says ‘big\n",
      "win’ will allow him to pursue an agenda that has been largely blocked\n",
      "by lower courts over questions of constitutionality Why this ruling is\n",
      "a lasting win for presidential power Sotomayor’s dissent: ‘No right is\n",
      "safe in the new legal regime the Court creates’ Play Catch up on\n",
      "today's global news - Source: CNN Video Catch up on today’s news Vogue\n",
      "Remember Anna Wintour’s shocking first Vogue cover? Jun 27, 2025 SEOUL\n",
      "SOUTHERN DISTRICT PROSECUTORS’ OFFICE VIA REUTERS Video Video captures\n",
      "moment suspect lights fire on Seoul subway 0:24 Jun 27, 2025 Takuya\n",
      "Inaba/Kyodo News/AP Japan executes ‘Twitter killer’ who murdered and\n",
      "dismembered 9 people Jun 27, 2025 Lise Åserud/NTB/AFP/Getty Images\n",
      "Police announce rape and sexual assault charges against son of Norway\n",
      "crown princess Jun 27, 2025 Ad Feedback More top stories Libkos/Getty\n",
      "Images Russia has amassed 110,000 troops near strategic Ukrainian\n",
      "city, Kyiv says Live Updates Trump says he’d ‘absolutely’ consider\n",
      "bombing Iranian nuclear sites again Live Updates Defense resumes\n",
      "closing argument in Sean ‘Diddy’ Combs trial Rick Hurst, ‘Dukes of\n",
      "Hazzard’ star, dies Some US citizens are being detained by ICE as\n",
      "immigration operations expand Video ‘Cobra Kai’ actor accused of\n",
      "biting co-star during fan convention 3:02 Getty Images/Destination\n",
      "Missoula/Will Lanzoni/CNN/Nate Wyeth/Rebecca Wright/CNN We searched\n",
      "for America’s best towns to visit. Here are the top 10 2:33 Mario\n",
      "Tama/Getty Images More than a third of this country’s population has\n",
      "applied to relocate Courtesy Catherine Tondelli He fell in love at\n",
      "first sight with a stranger at the Trevi Fountain: 'Like a present\n",
      "from the sky, she arrived' Ad Feedback Anna Moneymaker/Getty Images\n",
      "Trade talks probably won’t be done by Trump’s July 9 deadline, Bessent\n",
      "says Jun 27, 2025 David Paul Morris/Bloomberg/Getty Images Nike says\n",
      "its tariff bill is $1 billion Jun 27, 2025 Christopher Furlong/Getty\n",
      "Images Europe/Getty Images Video Astonished 102-year-old WWII veteran\n",
      "reacts to Emmy win 2:29 Jun 27, 2025 Ad Feedback FLORIDA DEPARTMENT OF\n",
      "CORRECTIONS Canadian officials press US for details on Canadian\n",
      "citizen who died in ICE custody Jonathan O’Neil Scientists say they\n",
      "have identified Earth’s oldest rocks. It could reveal an unknown\n",
      "chapter in our planet’s history Tom Burd Lost underwater forests are\n",
      "returning to Sydney’s coastline Jacquelyn Martin/AP As two African\n",
      "nations sign a peace deal, Trump wants credit. But some fear peace may\n",
      "still elude them Stefano Rellandini/AFP/Getty Images At the Bezos-\n",
      "Sanchez wedding: Lauren Sanchez arrives on San Giorgio Maggiore for\n",
      "Friday’s event • Gallery Gallery AP/Getty Images Gallery In pictures:\n",
      "Lauren Sanchez and Jeff Bezos’ Venetian wedding • Video 1:28 Luca\n",
      "Bruno/AP Video Here’s what we know ahead of the Bezos-Sanchez wedding\n",
      "1:28 • Analysis Analysis Omar Havana/Getty Images Analysis Trump may\n",
      "name a ‘shadow’ Fed chair, an unprecedented development in American\n",
      "history Elon Musk isn’t happy with his AI chatbot. Experts worry he’s\n",
      "trying to make Grok 4 in his image Rachel Zegler is serenading crowds\n",
      "in London almost every night for free Trans soccer fans 'don't feel\n",
      "safe' in parts of the US. That's a problem ahead of next year's World\n",
      "Cup Video Girl rescued from sewer after seven hours 0:42 Ad Feedback\n",
      "Featured Sections Space and science Nanjing Institute of Geology and\n",
      "Palaeontology; Chinese Academy of Sciences/NIGPAS 99 million-year-old\n",
      "amber preserved ancient fly with zombie fungus bursting from its head\n",
      "Private mission lifts off with three astronauts who will be the first\n",
      "from their countries to visit the space station Drone footage reveals\n",
      "orcas using tools in a stunning first First images from the largest\n",
      "camera ever built reveal millions of galaxies Global Travel Show all\n",
      "This animation, composed of 16 images acquired by NASA’s Terra\n",
      "satellite, shows Kati Thanda-Lake Eyre's evolution from April 29 to\n",
      "June 12. NASA NASA images highlight rare event taking place in\n",
      "Australia’s arid outback 'Off-the-scale offensive': The dark world of\n",
      "Jack the Ripper tourism The beautiful but forgotten Bauhaus airport\n",
      "that’s an aviation time capsule London to Sweden for the day: These\n",
      "travelers are embracing extreme day trips Ad Feedback Global Business\n",
      "Yuki Iwamura/AP S&P 500 ends the day inches away from completing a\n",
      "$9.8 trillion roundtrip Trump Media’s stock has plunged by nearly half\n",
      "since the election. Now it’s taking action A battery of new data shows\n",
      "how the US economy is holding up amid Trump’s tariffs After Iran uses\n",
      "missiles, US braces for cyberattacks Art and Style Georges De\n",
      "Keerle/Hulton Archive/Getty Images Princess Diana’s ‘caring dress’\n",
      "fetches over $500,000 in largest auction of late royal’s fashion Anna\n",
      "Wintour steps down as Vogue editor-in-chief A Dior debut and a fresh\n",
      "female perspective: What to watch at Paris Fashion Week Men’s Kurt\n",
      "Cobain's floral dress was the ultimate expression of grunge style\n",
      "SPORT Show all Illustration by Leah Abucayan/CNN Trans soccer fans\n",
      "'don't feel safe' in parts of the US. That's a problem ahead of next\n",
      "year's World Cup Erling Haaland reaches scoring milestone faster than\n",
      "Messi and Ronaldo Barry Bonds will be getting a statue outside the\n",
      "Giants’ ballpark, team CEO says Spain’s High Court upholds conviction\n",
      "of ex-soccer chief Luis Rubiales in kiss case Ad Feedback US Politics\n",
      "• Analysis Analysis Andrew Harnik/Getty Images Analysis Why Trump\n",
      "needs you to believe Iran’s nuclear program is ‘obliterated’ Officials\n",
      "say DOGE cuts to agencies have made it harder to prep for potential\n",
      "retaliation from Iran Analysis Inside the NATO charm offensive that\n",
      "shocked as much as it delivered CNN Exclusive New Trump administration\n",
      "plan could end asylum claims and speed up deportations health and\n",
      "wellness Hakase_/iStockphoto/Getty Images/File By cutting dyes from\n",
      "your diet, you’re getting another important built-in benefit BMI is\n",
      "B-A-D, a new study suggests. Here’s a better way to measure weight\n",
      "Deaths from heart attacks are way down. Here’s what’s killing us\n",
      "instead Deep belly fat triggers inflammation. Here’s how to reduce it\n",
      "Tech Allison Joyce/Bloomberg/Getty Images State regulator: Proposed\n",
      "10-year moratorium on AI law enforcement is ‘extremely disconcerting’\n",
      "What is Perplexity, the AI startup said to be catching Meta and\n",
      "Apple’s attention Do you think AI is changing or threatening to take\n",
      "your job? Tell us about it here Photos You Should See • Gallery\n",
      "Gallery Royce L. Bair/DarkSky International Gallery Protecting our\n",
      "night skies from light pollution • Gallery Gallery ABC Photo\n",
      "Archives/Disney General Entertainment Content/Getty Images Gallery\n",
      "People we’ve lost in 2025 • Gallery Gallery The Legacy\n",
      "Collection/THA/Shutterstock Gallery In pictures: Behind the scenes of\n",
      "‘Jaws’ • Gallery Gallery Lorenzo Poli Gallery Haunting image of an\n",
      "abandoned mining town wins Earth Photo prize • Gallery Gallery\n",
      "Dendrinos/MOm Gallery Mediterranean monk seals: Back from the brink •\n",
      "Gallery Gallery Luiz Thiago de Jesus/AMLD Gallery Back from the brink:\n",
      "Golden lion tamarin Ad Feedback In Case You Missed It KCNA/Reuters Why\n",
      "Trump’s strikes on Iran will leave North Korea more determined than\n",
      "ever to keep its nukes Iran’s defense minister goes to China on first\n",
      "reported foreign trip since conflict with Israel ‘I started to feel\n",
      "numb’: Woman recalls syringe attack at French music festival Vietnam\n",
      "to remove death penalty for embezzlement, sparing tycoon’s life The\n",
      "myth of Iran’s invincibility has been shattered, and the fallout could\n",
      "be far-reaching Fan who heckled Diamondbacks’ Ketel Marte about his\n",
      "late mother now banned from all Major League ballparks How moving from\n",
      "the US to Costa Rica’s ‘blue zone’ transformed this family’s life\n",
      "forever Luxury PJs and a more gentle approach: Here’s what we saw at\n",
      "the menswear shows in Milan Subscribe Sign in My Account Settings\n",
      "Newsletters Topics you follow Sign out Your CNN account Sign in to\n",
      "your CNN account Live TV Listen Watch World Africa Americas Asia\n",
      "Australia China Europe India Middle East United Kingdom US Politics\n",
      "Trump Facts First CNN Polls 2025 Elections Business Tech Media\n",
      "Calculators Videos Markets Pre-markets After-Hours Fear & Greed\n",
      "Investing Markets Now Nightcap Health Life, But Better Fitness Food\n",
      "Sleep Mindfulness Relationships Entertainment Movies Television\n",
      "Celebrity Tech Innovate Foreseeable Future Mission: Ahead Work\n",
      "Transformed Innovative Cities Style Arts Design Fashion Architecture\n",
      "Luxury Beauty Video Travel Destinations Food & Drink Stay News Videos\n",
      "Sports Football Tennis Golf Motorsport US Sports Olympics Climbing\n",
      "Esports Hockey Science Space Life Unearthed Climate Solutions Weather\n",
      "Weather Video Climate Ukraine-Russia War Israel-Hamas War Features As\n",
      "Equals Call to Earth Freedom Project Impact Your World Inside Africa\n",
      "CNN Heroes Watch Live TV CNN Fast Shows A-Z CNN10 CNN Max CNN TV\n",
      "Schedules Listen CNN 5 Things Chasing Life with Dr. Sanjay Gupta The\n",
      "Assignment with Audie Cornish One Thing Tug of War CNN Political\n",
      "Briefing The Axe Files All There Is with Anderson Cooper All CNN Audio\n",
      "podcasts Games Daily Crossword Jumble Crossword Sudoblock Sudoku 5\n",
      "Things Quiz About CNN Photos Investigations CNN Profiles CNN\n",
      "Leadership CNN Newsletters Work for CNN Watch Listen Live TV Follow\n",
      "CNN Subscribe Sign in My Account Settings Newsletters Topics you\n",
      "follow Sign out Your CNN account Sign in to your CNN account Terms of\n",
      "Use Privacy Policy Cookie Settings Ad Choices Accessibility & CC About\n",
      "Newsletters Transcripts © 2025 Cable News Network. A Warner Bros.\n",
      "Discovery Company. All Rights Reserved. CNN Sans ™ & © 2016 Cable News\n",
      "Network. Privacy Policy For privacy options, please see our privacy\n",
      "policy: https://www.cnn.com/privacy . Back Button Cookie List Search\n",
      "Icon Filter Icon Clear checkbox label label Apply Cancel Consent\n",
      "Leg.Interest checkbox label label checkbox label label checkbox label\n",
      "label Close\n"
     ]
    }
   ],
   "source": [
    "import textwrap\n",
    "print(textwrap.fill(text))"
   ]
  },
  {
   "cell_type": "code",
   "execution_count": 12,
   "metadata": {},
   "outputs": [],
   "source": [
    "all_tools = tools + [tool_push]"
   ]
  },
  {
   "cell_type": "code",
   "execution_count": 14,
   "metadata": {},
   "outputs": [],
   "source": [
    "\n",
    "llm = ChatOpenAI(model=\"gpt-4o-mini\")\n",
    "llm_with_tools = llm.bind_tools(all_tools)\n",
    "\n",
    "\n",
    "def chatbot(state: State):\n",
    "    return {\"messages\": [llm_with_tools.invoke(state[\"messages\"])]}\n"
   ]
  },
  {
   "cell_type": "code",
   "execution_count": 15,
   "metadata": {},
   "outputs": [
    {
     "data": {
      "image/png": "[encoded data removed]",
      "text/plain": [
       "<IPython.core.display.Image object>"
      ]
     },
     "metadata": {},
     "output_type": "display_data"
    }
   ],
   "source": [
    "\n",
    "graph_builder = StateGraph(State)\n",
    "graph_builder.add_node(\"chatbot\", chatbot)\n",
    "graph_builder.add_node(\"tools\", ToolNode(tools=all_tools))\n",
    "graph_builder.add_conditional_edges( \"chatbot\", tools_condition, \"tools\")\n",
    "graph_builder.add_edge(\"tools\", \"chatbot\")\n",
    "graph_builder.add_edge(START, \"chatbot\")\n",
    "\n",
    "memory = MemorySaver()\n",
    "graph = graph_builder.compile(checkpointer=memory)\n",
    "display(Image(graph.get_graph().draw_mermaid_png()))"
   ]
  },
  {
   "cell_type": "code",
   "execution_count": 16,
   "metadata": {},
   "outputs": [
    {
     "name": "stdout",
     "output_type": "stream",
     "text": [
      "* Running on local URL:  http://127.0.0.1:7860\n",
      "* To create a public link, set `share=True` in `launch()`.\n"
     ]
    },
    {
     "data": {
      "text/html": [
       "<div><iframe src=\"http://127.0.0.1:7860/\" width=\"100%\" height=\"500\" allow=\"autoplay; camera; microphone; clipboard-read; clipboard-write;\" frameborder=\"0\" allowfullscreen></iframe></div>"
      ],
      "text/plain": [
       "<IPython.core.display.HTML object>"
      ]
     },
     "metadata": {},
     "output_type": "display_data"
    },
    {
     "data": {
      "text/plain": []
     },
     "execution_count": 16,
     "metadata": {},
     "output_type": "execute_result"
    }
   ],
   "source": [
    "config = {\"configurable\": {\"thread_id\": \"10\"}}\n",
    "\n",
    "async def chat(user_input: str, history):\n",
    "    result = await graph.ainvoke({\"messages\": [{\"role\": \"user\", \"content\": user_input}]}, config=config)\n",
    "    return result[\"messages\"][-1].content\n",
    "\n",
    "\n",
    "gr.ChatInterface(chat, type=\"messages\").launch()"
   ]
  },
  {
   "cell_type": "code",
   "execution_count": null,
   "metadata": {},
   "outputs": [],
   "source": []
  }
 ],
 "metadata": {
  "kernelspec": {
   "display_name": "venva",
   "language": "python",
   "name": "python3"
  },
  "language_info": {
   "codemirror_mode": {
    "name": "ipython",
    "version": 3
   },
   "file_extension": ".py",
   "mimetype": "text/x-python",
   "name": "python",
   "nbconvert_exporter": "python",
   "pygments_lexer": "ipython3",
   "version": "3.11.9"
  }
 },
 "nbformat": 4,
 "nbformat_minor": 2
}
